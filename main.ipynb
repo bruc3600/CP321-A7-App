{
 "cells": [
  {
   "cell_type": "code",
   "execution_count": 46,
   "metadata": {},
   "outputs": [],
   "source": [
    "import pandas as pd\n",
    "import dash\n",
    "from dash import dcc, html, Input, Output\n",
    "import plotly.express as px\n",
    "import plotly.graph_objects as go"
   ]
  },
  {
   "cell_type": "code",
   "execution_count": null,
   "metadata": {},
   "outputs": [
    {
     "data": {
      "text/html": [
       "\n",
       "        <iframe\n",
       "            width=\"100%\"\n",
       "            height=\"650\"\n",
       "            src=\"http://127.0.0.1:8050/\"\n",
       "            frameborder=\"0\"\n",
       "            allowfullscreen\n",
       "            \n",
       "        ></iframe>\n",
       "        "
      ],
      "text/plain": [
       "<IPython.lib.display.IFrame at 0x2d1fa6ac920>"
      ]
     },
     "metadata": {},
     "output_type": "display_data"
    }
   ],
   "source": [
    "# load dataset\n",
    "df = pd.read_csv(\"Assignment7Dataset.csv\")\n",
    "# create list of countries that have won\n",
    "winners = df['Winner'].value_counts().reset_index()\n",
    "winners.columns = ['Country', 'Wins']\n",
    "\n",
    "# get all countries from plotlys built in list\n",
    "all_countries = px.data.gapminder().query(\"year == 2007\")[\"country\"].unique()\n",
    "\n",
    "# build full dataset including countries with 0 wins (to color countries with 0 wins differently for better visibility)\n",
    "full_data = pd.DataFrame({'Country': all_countries})\n",
    "full_data = full_data.merge(winners, how='left', on='Country')\n",
    "full_data['Wins'] = full_data['Wins'].fillna(0).astype(int).astype(str) # convert to string to be plotted as discrete vs continuous\n",
    "\n",
    "# predefined discrete color map (white for countries with 0, then gradient from light to dark blue for >0)\n",
    "color_map = {\n",
    "    \"0\": \"white\",\n",
    "    \"1\": \"#fee5d9\",\n",
    "    \"2\": \"#fcae91\",\n",
    "    \"3\": \"#fb6a4a\",\n",
    "    \"4\": \"#de2d26\",\n",
    "    \"5\": \"#a50f15\"\n",
    "}\n",
    "\n",
    "def generate_choropleth():\n",
    "    \n",
    "    \n",
    "    fig = px.choropleth(\n",
    "        full_data,\n",
    "        locations=\"Country\",\n",
    "        locationmode=\"country names\",\n",
    "        color=\"Wins\",\n",
    "        color_discrete_map=color_map,\n",
    "        category_orders={\"Wins\": [\"0\", \"1\", \"2\", \"3\", \"4\", \"5\", \"6\"]},\n",
    "        title=\"FIFA World Cup Wins by Country\",\n",
    "        height=800,\n",
    "        width=1200\n",
    "    )\n",
    "    fig.update_geos(showcountries=True, showframe=False, projection_type=\"natural earth\", bgcolor='white',countrycolor=\"Black\")\n",
    "    return fig\n",
    "\n",
    "# dash app setup\n",
    "app = dash.Dash(__name__)\n",
    "server = app.server\n",
    "app.layout = html.Div([\n",
    "    html.H1(\"FIFA World Cup Dashboard\"),\n",
    "    dcc.Graph(id='choropleth', figure=generate_choropleth()),\n",
    "    html.Div([\n",
    "        html.Label(\"Select a Country:\"),\n",
    "        dcc.Dropdown(\n",
    "            id='country-dropdown',\n",
    "            options=[{\"label\": c, \"value\": c} for c in sorted(winners['Country'].unique())],\n",
    "            value='Brazil'\n",
    "        ),\n",
    "        html.Div(id='country-output')\n",
    "    ], style={\"margin-top\": \"5px\"}),\n",
    "    html.Div([\n",
    "        html.Label(\"Select a Year:\"),\n",
    "        dcc.Dropdown(\n",
    "            id='year-dropdown',\n",
    "            options=[{\"label\": y, \"value\": y} for y in sorted(df['Year'].unique())],\n",
    "            value = 2022\n",
    "        ),\n",
    "        html.Div(id='year-output')\n",
    "    ], style={\"margin-top\": \"20px\"})\n",
    "], style={\"backgroundColor\": \"white\", \"padding\": \"20px\"})\n",
    "\n",
    "# callbacks\n",
    "@app.callback(\n",
    "    Output('country-output', 'children'),\n",
    "    Input('country-dropdown', 'value')\n",
    ")\n",
    "\n",
    "def update_country_output(selected_country):\n",
    "    wins = winners[winners['Country'] == selected_country]['Wins'].values\n",
    "    num_wins = int(wins[0]) if len(wins) > 0 else 0\n",
    "    return f\"{selected_country} has won the World Cup {num_wins} times.\"\n",
    "\n",
    "@app.callback(\n",
    "    Output('year-output', 'children'),\n",
    "    Input('year-dropdown', 'value')\n",
    ")\n",
    "\n",
    "def update_year_output(selected_year):\n",
    "    row = df[df['Year'] == selected_year].iloc[0]\n",
    "    return f\"In {selected_year}, the winner has {row['Winner']} and the runner-up was {row['Runner-up']}.\"\n",
    "\n",
    "# run app\n",
    "if __name__ == '__main__':\n",
    "    app.run(debug=True)"
   ]
  }
 ],
 "metadata": {
  "kernelspec": {
   "display_name": "Python 3",
   "language": "python",
   "name": "python3"
  },
  "language_info": {
   "codemirror_mode": {
    "name": "ipython",
    "version": 3
   },
   "file_extension": ".py",
   "mimetype": "text/x-python",
   "name": "python",
   "nbconvert_exporter": "python",
   "pygments_lexer": "ipython3",
   "version": "3.12.3"
  }
 },
 "nbformat": 4,
 "nbformat_minor": 2
}
